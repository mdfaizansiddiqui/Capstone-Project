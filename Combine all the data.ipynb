{
 "cells": [
  {
   "cell_type": "code",
   "execution_count": 1,
   "metadata": {},
   "outputs": [],
   "source": [
    "import pandas as pd "
   ]
  },
  {
   "cell_type": "code",
   "execution_count": 2,
   "metadata": {},
   "outputs": [],
   "source": [
    "amazon = pd.read_csv('Amazon_all.csv')\n",
    "apple = pd.read_csv('Apple_all.csv')\n",
    "google = pd.read_csv('Google_all.csv')\n",
    "microsoft = pd.read_csv('Microsoft_all.csv')"
   ]
  },
  {
   "cell_type": "code",
   "execution_count": 19,
   "metadata": {},
   "outputs": [],
   "source": [
    "def change_col_names(df, df_name):\n",
    "    if 'Unnamed: 0' in df.columns:\n",
    "        df.drop('Unnamed: 0', axis = 1, inplace = True)\n",
    "    df.columns = [df_name+'_sentiment', df_name+'_Date', df_name+'_Adj Close', df_name+'_Target_Direction']\n",
    "    return df"
   ]
  },
  {
   "cell_type": "code",
   "execution_count": 20,
   "metadata": {},
   "outputs": [],
   "source": [
    "amazon = change_col_names(amazon, 'Amazon')\n",
    "apple = change_col_names(apple, 'Apple')\n",
    "google = change_col_names(google, 'Google')\n",
    "microsoft = change_col_names(microsoft, 'Microsoft')"
   ]
  },
  {
   "cell_type": "code",
   "execution_count": 22,
   "metadata": {},
   "outputs": [],
   "source": [
    "combined_data = pd.concat([amazon, apple, google, microsoft], axis = 1)"
   ]
  },
  {
   "cell_type": "code",
   "execution_count": 23,
   "metadata": {},
   "outputs": [
    {
     "data": {
      "text/html": [
       "<div>\n",
       "<style scoped>\n",
       "    .dataframe tbody tr th:only-of-type {\n",
       "        vertical-align: middle;\n",
       "    }\n",
       "\n",
       "    .dataframe tbody tr th {\n",
       "        vertical-align: top;\n",
       "    }\n",
       "\n",
       "    .dataframe thead th {\n",
       "        text-align: right;\n",
       "    }\n",
       "</style>\n",
       "<table border=\"1\" class=\"dataframe\">\n",
       "  <thead>\n",
       "    <tr style=\"text-align: right;\">\n",
       "      <th></th>\n",
       "      <th>Amazon_sentiment</th>\n",
       "      <th>Amazon_Date</th>\n",
       "      <th>Amazon_Adj Close</th>\n",
       "      <th>Amazon_Target_Direction</th>\n",
       "      <th>Apple_sentiment</th>\n",
       "      <th>Apple_Date</th>\n",
       "      <th>Apple_Adj Close</th>\n",
       "      <th>Apple_Target_Direction</th>\n",
       "      <th>Google_sentiment</th>\n",
       "      <th>Google_Date</th>\n",
       "      <th>Google_Adj Close</th>\n",
       "      <th>Google_Target_Direction</th>\n",
       "      <th>Microsoft_sentiment</th>\n",
       "      <th>Microsoft_Date</th>\n",
       "      <th>Microsoft_Adj Close</th>\n",
       "      <th>Microsoft_Target_Direction</th>\n",
       "    </tr>\n",
       "  </thead>\n",
       "  <tbody>\n",
       "    <tr>\n",
       "      <th>0</th>\n",
       "      <td>-0.1</td>\n",
       "      <td>2013-01-03</td>\n",
       "      <td>0.043785</td>\n",
       "      <td>1.0</td>\n",
       "      <td>-0.1</td>\n",
       "      <td>2013-01-02</td>\n",
       "      <td>0.0852</td>\n",
       "      <td>0.0</td>\n",
       "      <td>0.3</td>\n",
       "      <td>2013-01-02</td>\n",
       "      <td>0.0888</td>\n",
       "      <td>1.0</td>\n",
       "      <td>0.2</td>\n",
       "      <td>2013-01-02</td>\n",
       "      <td>0.0239</td>\n",
       "      <td>0.0</td>\n",
       "    </tr>\n",
       "    <tr>\n",
       "      <th>1</th>\n",
       "      <td>0.6</td>\n",
       "      <td>2013-01-04</td>\n",
       "      <td>0.043981</td>\n",
       "      <td>1.0</td>\n",
       "      <td>-0.0</td>\n",
       "      <td>2013-01-03</td>\n",
       "      <td>0.0836</td>\n",
       "      <td>0.0</td>\n",
       "      <td>0.4</td>\n",
       "      <td>2013-01-03</td>\n",
       "      <td>0.0889</td>\n",
       "      <td>0.0</td>\n",
       "      <td>0.2</td>\n",
       "      <td>2013-01-03</td>\n",
       "      <td>0.0225</td>\n",
       "      <td>1.0</td>\n",
       "    </tr>\n",
       "    <tr>\n",
       "      <th>2</th>\n",
       "      <td>0.8</td>\n",
       "      <td>2013-01-07</td>\n",
       "      <td>0.046701</td>\n",
       "      <td>1.0</td>\n",
       "      <td>0.2</td>\n",
       "      <td>2013-01-04</td>\n",
       "      <td>0.0800</td>\n",
       "      <td>0.0</td>\n",
       "      <td>0.4</td>\n",
       "      <td>2013-01-04</td>\n",
       "      <td>0.0934</td>\n",
       "      <td>0.0</td>\n",
       "      <td>0.3</td>\n",
       "      <td>2013-01-04</td>\n",
       "      <td>0.0205</td>\n",
       "      <td>1.0</td>\n",
       "    </tr>\n",
       "    <tr>\n",
       "      <th>3</th>\n",
       "      <td>0.3</td>\n",
       "      <td>2013-01-08</td>\n",
       "      <td>0.046093</td>\n",
       "      <td>1.0</td>\n",
       "      <td>0.1</td>\n",
       "      <td>2013-01-07</td>\n",
       "      <td>0.0793</td>\n",
       "      <td>0.0</td>\n",
       "      <td>0.3</td>\n",
       "      <td>2013-01-07</td>\n",
       "      <td>0.0924</td>\n",
       "      <td>0.0</td>\n",
       "      <td>0.1</td>\n",
       "      <td>2013-01-07</td>\n",
       "      <td>0.0203</td>\n",
       "      <td>1.0</td>\n",
       "    </tr>\n",
       "    <tr>\n",
       "      <th>4</th>\n",
       "      <td>0.3</td>\n",
       "      <td>2013-01-09</td>\n",
       "      <td>0.046085</td>\n",
       "      <td>1.0</td>\n",
       "      <td>-0.4</td>\n",
       "      <td>2013-01-08</td>\n",
       "      <td>0.0796</td>\n",
       "      <td>0.0</td>\n",
       "      <td>0.4</td>\n",
       "      <td>2013-01-08</td>\n",
       "      <td>0.0919</td>\n",
       "      <td>0.0</td>\n",
       "      <td>-0.4</td>\n",
       "      <td>2013-01-08</td>\n",
       "      <td>0.0197</td>\n",
       "      <td>1.0</td>\n",
       "    </tr>\n",
       "  </tbody>\n",
       "</table>\n",
       "</div>"
      ],
      "text/plain": [
       "   Amazon_sentiment Amazon_Date  Amazon_Adj Close  Amazon_Target_Direction  \\\n",
       "0              -0.1  2013-01-03          0.043785                      1.0   \n",
       "1               0.6  2013-01-04          0.043981                      1.0   \n",
       "2               0.8  2013-01-07          0.046701                      1.0   \n",
       "3               0.3  2013-01-08          0.046093                      1.0   \n",
       "4               0.3  2013-01-09          0.046085                      1.0   \n",
       "\n",
       "   Apple_sentiment  Apple_Date  Apple_Adj Close  Apple_Target_Direction  \\\n",
       "0             -0.1  2013-01-02           0.0852                     0.0   \n",
       "1             -0.0  2013-01-03           0.0836                     0.0   \n",
       "2              0.2  2013-01-04           0.0800                     0.0   \n",
       "3              0.1  2013-01-07           0.0793                     0.0   \n",
       "4             -0.4  2013-01-08           0.0796                     0.0   \n",
       "\n",
       "   Google_sentiment Google_Date  Google_Adj Close  Google_Target_Direction  \\\n",
       "0               0.3  2013-01-02            0.0888                      1.0   \n",
       "1               0.4  2013-01-03            0.0889                      0.0   \n",
       "2               0.4  2013-01-04            0.0934                      0.0   \n",
       "3               0.3  2013-01-07            0.0924                      0.0   \n",
       "4               0.4  2013-01-08            0.0919                      0.0   \n",
       "\n",
       "   Microsoft_sentiment Microsoft_Date  Microsoft_Adj Close  \\\n",
       "0                  0.2     2013-01-02               0.0239   \n",
       "1                  0.2     2013-01-03               0.0225   \n",
       "2                  0.3     2013-01-04               0.0205   \n",
       "3                  0.1     2013-01-07               0.0203   \n",
       "4                 -0.4     2013-01-08               0.0197   \n",
       "\n",
       "   Microsoft_Target_Direction  \n",
       "0                         0.0  \n",
       "1                         1.0  \n",
       "2                         1.0  \n",
       "3                         1.0  \n",
       "4                         1.0  "
      ]
     },
     "execution_count": 23,
     "metadata": {},
     "output_type": "execute_result"
    }
   ],
   "source": [
    "combined_data.head()"
   ]
  },
  {
   "cell_type": "code",
   "execution_count": 26,
   "metadata": {},
   "outputs": [
    {
     "name": "stdout",
     "output_type": "stream",
     "text": [
      "Amazon_sentiment:1\n",
      "Amazon_Date:1\n",
      "Amazon_Adj Close:1\n",
      "Amazon_Target_Direction:1\n",
      "Apple_sentiment:0\n",
      "Apple_Date:0\n",
      "Apple_Adj Close:0\n",
      "Apple_Target_Direction:0\n",
      "Google_sentiment:0\n",
      "Google_Date:0\n",
      "Google_Adj Close:0\n",
      "Google_Target_Direction:0\n",
      "Microsoft_sentiment:0\n",
      "Microsoft_Date:0\n",
      "Microsoft_Adj Close:0\n",
      "Microsoft_Target_Direction:0\n"
     ]
    }
   ],
   "source": [
    "for col in combined_data.columns:\n",
    "    print(str(col), end=\":\")\n",
    "    print(combined_data[col].isnull().sum())"
   ]
  },
  {
   "cell_type": "code",
   "execution_count": 39,
   "metadata": {},
   "outputs": [],
   "source": [
    "combined_data['Amazon_sentiment'] = combined_data['Amazon_sentiment'].fillna((combined_data['Amazon_sentiment'].mean()))\n",
    "combined_data['Amazon_Adj Close'] = combined_data['Amazon_Adj Close'].fillna((combined_data['Amazon_Adj Close'].mean()))\n",
    "combined_data['Amazon_Target_Direction'] = combined_data['Amazon_Target_Direction'].fillna((combined_data['Amazon_Target_Direction'].mode()))"
   ]
  },
  {
   "cell_type": "code",
   "execution_count": 46,
   "metadata": {},
   "outputs": [],
   "source": [
    "# manually updating the last value as it didn't work above \n",
    "combined_data['Amazon_Target_Direction'].loc[len(combined_data)-1] = combined_data['Amazon_Target_Direction'].mode()"
   ]
  },
  {
   "cell_type": "code",
   "execution_count": 45,
   "metadata": {},
   "outputs": [
    {
     "data": {
      "text/plain": [
       "1.0"
      ]
     },
     "execution_count": 45,
     "metadata": {},
     "output_type": "execute_result"
    }
   ],
   "source": [
    "combined_data['Amazon_Target_Direction'].loc[len(combined_data)-1]"
   ]
  },
  {
   "cell_type": "code",
   "execution_count": 42,
   "metadata": {},
   "outputs": [
    {
     "data": {
      "text/plain": [
       "Amazon_sentiment                0.307739\n",
       "Amazon_Date                          NaN\n",
       "Amazon_Adj Close                0.183272\n",
       "Amazon_Target_Direction                1\n",
       "Apple_sentiment                     -0.2\n",
       "Apple_Date                    2018-12-31\n",
       "Apple_Adj Close                   0.2493\n",
       "Apple_Target_Direction                 0\n",
       "Google_sentiment                     0.8\n",
       "Google_Date                   2018-12-31\n",
       "Google_Adj Close                  0.5081\n",
       "Google_Target_Direction                1\n",
       "Microsoft_sentiment                  0.2\n",
       "Microsoft_Date                2018-12-31\n",
       "Microsoft_Adj Close               0.3801\n",
       "Microsoft_Target_Direction             1\n",
       "Name: 1509, dtype: object"
      ]
     },
     "execution_count": 42,
     "metadata": {},
     "output_type": "execute_result"
    }
   ],
   "source": [
    "combined_data.loc[len(combined_data)-1]"
   ]
  },
  {
   "cell_type": "code",
   "execution_count": 47,
   "metadata": {},
   "outputs": [
    {
     "name": "stdout",
     "output_type": "stream",
     "text": [
      "Amazon_sentiment:0\n",
      "Amazon_Date:1\n",
      "Amazon_Adj Close:0\n",
      "Amazon_Target_Direction:0\n",
      "Apple_sentiment:0\n",
      "Apple_Date:0\n",
      "Apple_Adj Close:0\n",
      "Apple_Target_Direction:0\n",
      "Google_sentiment:0\n",
      "Google_Date:0\n",
      "Google_Adj Close:0\n",
      "Google_Target_Direction:0\n",
      "Microsoft_sentiment:0\n",
      "Microsoft_Date:0\n",
      "Microsoft_Adj Close:0\n",
      "Microsoft_Target_Direction:0\n"
     ]
    }
   ],
   "source": [
    "for col in combined_data.columns:\n",
    "    print(str(col), end=\":\")\n",
    "    print(combined_data[col].isnull().sum())"
   ]
  },
  {
   "cell_type": "code",
   "execution_count": 48,
   "metadata": {},
   "outputs": [],
   "source": [
    "combined_data.to_csv('Combined_data.csv')"
   ]
  },
  {
   "cell_type": "code",
   "execution_count": 55,
   "metadata": {},
   "outputs": [
    {
     "data": {
      "text/plain": [
       "Amazon_sentiment                     0.5\n",
       "Amazon_Date                   2018-01-02\n",
       "Amazon_Adj Close                0.315644\n",
       "Amazon_Target_Direction                1\n",
       "Apple_sentiment                      0.1\n",
       "Apple_Date                    2017-12-29\n",
       "Apple_Adj Close                   0.2661\n",
       "Apple_Target_Direction                 1\n",
       "Google_sentiment                     0.9\n",
       "Google_Date                   2017-12-29\n",
       "Google_Adj Close                  0.5148\n",
       "Google_Target_Direction                1\n",
       "Microsoft_sentiment                  0.2\n",
       "Microsoft_Date                2017-12-29\n",
       "Microsoft_Adj Close               0.3001\n",
       "Microsoft_Target_Direction             1\n",
       "Name: 1258, dtype: object"
      ]
     },
     "execution_count": 55,
     "metadata": {},
     "output_type": "execute_result"
    }
   ],
   "source": [
    "combined_data.loc[1258]"
   ]
  },
  {
   "cell_type": "code",
   "execution_count": null,
   "metadata": {},
   "outputs": [],
   "source": []
  }
 ],
 "metadata": {
  "kernelspec": {
   "display_name": "Python 3",
   "language": "python",
   "name": "python3"
  },
  "language_info": {
   "codemirror_mode": {
    "name": "ipython",
    "version": 3
   },
   "file_extension": ".py",
   "mimetype": "text/x-python",
   "name": "python",
   "nbconvert_exporter": "python",
   "pygments_lexer": "ipython3",
   "version": "3.8.5"
  }
 },
 "nbformat": 4,
 "nbformat_minor": 4
}
