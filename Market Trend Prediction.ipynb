{
 "cells": [
  {
   "cell_type": "markdown",
   "metadata": {},
   "source": [
    "### Creating Prediction Value ( Adding Labels)\n",
    "We are using a 7 (trading) days prediction interval. Thus, the idea is to observe the technical indicators for today and use it to predict the direction of movement of the stocks 7 days later. If the stock went up in 7 days, we denote it by 1 and if it went down/did not change, we denote it by 0 (“Target_Direction”)"
   ]
  },
  {
   "cell_type": "code",
   "execution_count": 1,
   "metadata": {},
   "outputs": [],
   "source": [
    "import pandas as pd\n",
    "import numpy as np\n",
    "import datetime\n",
    "import matplotlib.pyplot as plt\n",
    "import os\n",
    "import pickle\n",
    "from scipy.stats import mstats\n",
    "from sklearn.model_selection import GridSearchCV\n",
    "from sklearn.ensemble import RandomForestClassifier\n",
    "from sklearn.model_selection import RandomizedSearchCV, validation_curve, TimeSeriesSplit\n",
    "from sklearn.metrics import accuracy_score\n",
    "%matplotlib inline"
   ]
  },
  {
   "cell_type": "code",
   "execution_count": 2,
   "metadata": {},
   "outputs": [],
   "source": [
    "Target_variables = ['SMA','k','d','RSI','MACD']\n",
    "train_start = '2013-01-02'\n",
    "test_start = '2017-01-01'\n"
   ]
  },
  {
   "cell_type": "code",
   "execution_count": 3,
   "metadata": {},
   "outputs": [],
   "source": [
    "rf = RandomForestClassifier()"
   ]
  },
  {
   "cell_type": "code",
   "execution_count": 4,
   "metadata": {},
   "outputs": [],
   "source": [
    "Amazon = pd.read_csv('Amazon.csv')\n",
    "Apple = pd.read_csv('Apple.csv')\n",
    "Google = pd.read_csv('Google.csv')\n",
    "Microsoft = pd.read_csv('Microsoft.csv')\n"
   ]
  },
  {
   "cell_type": "code",
   "execution_count": 5,
   "metadata": {},
   "outputs": [],
   "source": [
    "def create_prediction_value(df):\n",
    "    df['Close_Shifted'] = df['Adj Close'].transform(lambda x: x.shift(-6))\n",
    "    df['Target'] = ((df['Close_Shifted'] - df['Open'])/(df['Open']) * 100).shift(-1)\n",
    "    df['Target_Direction'] = np.where(df['Target']>0,1,0)\n",
    "    df = df.dropna().copy()\n",
    "    return df"
   ]
  },
  {
   "cell_type": "code",
   "execution_count": 6,
   "metadata": {},
   "outputs": [],
   "source": [
    "Amazon = create_prediction_value(Amazon)\n",
    "Apple = create_prediction_value(Apple)\n",
    "Google = create_prediction_value(Google)\n",
    "Microsoft = create_prediction_value(Microsoft)"
   ]
  },
  {
   "cell_type": "code",
   "execution_count": 7,
   "metadata": {},
   "outputs": [
    {
     "data": {
      "text/html": [
       "<div>\n",
       "<style scoped>\n",
       "    .dataframe tbody tr th:only-of-type {\n",
       "        vertical-align: middle;\n",
       "    }\n",
       "\n",
       "    .dataframe tbody tr th {\n",
       "        vertical-align: top;\n",
       "    }\n",
       "\n",
       "    .dataframe thead th {\n",
       "        text-align: right;\n",
       "    }\n",
       "</style>\n",
       "<table border=\"1\" class=\"dataframe\">\n",
       "  <thead>\n",
       "    <tr style=\"text-align: right;\">\n",
       "      <th></th>\n",
       "      <th>Date</th>\n",
       "      <th>High</th>\n",
       "      <th>Low</th>\n",
       "      <th>Open</th>\n",
       "      <th>Close</th>\n",
       "      <th>Volume</th>\n",
       "      <th>Adj Close</th>\n",
       "      <th>SMA</th>\n",
       "      <th>MACD</th>\n",
       "      <th>k</th>\n",
       "      <th>d</th>\n",
       "      <th>RSI</th>\n",
       "      <th>Close_Shifted</th>\n",
       "      <th>Target</th>\n",
       "      <th>Target_Direction</th>\n",
       "    </tr>\n",
       "  </thead>\n",
       "  <tbody>\n",
       "    <tr>\n",
       "      <th>0</th>\n",
       "      <td>2013-01-02</td>\n",
       "      <td>258.100006</td>\n",
       "      <td>253.259995</td>\n",
       "      <td>256.079987</td>\n",
       "      <td>257.309998</td>\n",
       "      <td>3271000</td>\n",
       "      <td>257.309998</td>\n",
       "      <td>253.498665</td>\n",
       "      <td>0.634111</td>\n",
       "      <td>71.512810</td>\n",
       "      <td>60.902685</td>\n",
       "      <td>57.082746</td>\n",
       "      <td>265.339996</td>\n",
       "      <td>4.147399</td>\n",
       "      <td>1</td>\n",
       "    </tr>\n",
       "    <tr>\n",
       "      <th>1</th>\n",
       "      <td>2013-01-03</td>\n",
       "      <td>260.880005</td>\n",
       "      <td>256.369995</td>\n",
       "      <td>257.269989</td>\n",
       "      <td>258.480011</td>\n",
       "      <td>2750900</td>\n",
       "      <td>258.480011</td>\n",
       "      <td>254.017999</td>\n",
       "      <td>0.660732</td>\n",
       "      <td>77.259442</td>\n",
       "      <td>62.884793</td>\n",
       "      <td>58.505474</td>\n",
       "      <td>267.940002</td>\n",
       "      <td>5.881678</td>\n",
       "      <td>1</td>\n",
       "    </tr>\n",
       "    <tr>\n",
       "      <th>2</th>\n",
       "      <td>2013-01-04</td>\n",
       "      <td>259.799988</td>\n",
       "      <td>256.649994</td>\n",
       "      <td>257.579987</td>\n",
       "      <td>259.149994</td>\n",
       "      <td>1874200</td>\n",
       "      <td>259.149994</td>\n",
       "      <td>254.510666</td>\n",
       "      <td>0.757346</td>\n",
       "      <td>80.550126</td>\n",
       "      <td>76.440792</td>\n",
       "      <td>59.336758</td>\n",
       "      <td>272.730011</td>\n",
       "      <td>3.395822</td>\n",
       "      <td>1</td>\n",
       "    </tr>\n",
       "    <tr>\n",
       "      <th>3</th>\n",
       "      <td>2013-01-07</td>\n",
       "      <td>269.730011</td>\n",
       "      <td>262.670013</td>\n",
       "      <td>262.970001</td>\n",
       "      <td>268.459991</td>\n",
       "      <td>4910000</td>\n",
       "      <td>268.459991</td>\n",
       "      <td>255.657999</td>\n",
       "      <td>1.039575</td>\n",
       "      <td>95.292739</td>\n",
       "      <td>84.367436</td>\n",
       "      <td>68.715731</td>\n",
       "      <td>271.899994</td>\n",
       "      <td>0.696441</td>\n",
       "      <td>1</td>\n",
       "    </tr>\n",
       "    <tr>\n",
       "      <th>4</th>\n",
       "      <td>2013-01-08</td>\n",
       "      <td>268.980011</td>\n",
       "      <td>263.570007</td>\n",
       "      <td>267.070007</td>\n",
       "      <td>266.380005</td>\n",
       "      <td>3010700</td>\n",
       "      <td>266.380005</td>\n",
       "      <td>256.803999</td>\n",
       "      <td>1.387794</td>\n",
       "      <td>87.583378</td>\n",
       "      <td>87.808748</td>\n",
       "      <td>65.102887</td>\n",
       "      <td>268.929993</td>\n",
       "      <td>0.861393</td>\n",
       "      <td>1</td>\n",
       "    </tr>\n",
       "  </tbody>\n",
       "</table>\n",
       "</div>"
      ],
      "text/plain": [
       "         Date        High         Low        Open       Close   Volume  \\\n",
       "0  2013-01-02  258.100006  253.259995  256.079987  257.309998  3271000   \n",
       "1  2013-01-03  260.880005  256.369995  257.269989  258.480011  2750900   \n",
       "2  2013-01-04  259.799988  256.649994  257.579987  259.149994  1874200   \n",
       "3  2013-01-07  269.730011  262.670013  262.970001  268.459991  4910000   \n",
       "4  2013-01-08  268.980011  263.570007  267.070007  266.380005  3010700   \n",
       "\n",
       "    Adj Close         SMA      MACD          k          d        RSI  \\\n",
       "0  257.309998  253.498665  0.634111  71.512810  60.902685  57.082746   \n",
       "1  258.480011  254.017999  0.660732  77.259442  62.884793  58.505474   \n",
       "2  259.149994  254.510666  0.757346  80.550126  76.440792  59.336758   \n",
       "3  268.459991  255.657999  1.039575  95.292739  84.367436  68.715731   \n",
       "4  266.380005  256.803999  1.387794  87.583378  87.808748  65.102887   \n",
       "\n",
       "   Close_Shifted    Target  Target_Direction  \n",
       "0     265.339996  4.147399                 1  \n",
       "1     267.940002  5.881678                 1  \n",
       "2     272.730011  3.395822                 1  \n",
       "3     271.899994  0.696441                 1  \n",
       "4     268.929993  0.861393                 1  "
      ]
     },
     "execution_count": 7,
     "metadata": {},
     "output_type": "execute_result"
    }
   ],
   "source": [
    "Amazon.head()"
   ]
  },
  {
   "cell_type": "code",
   "execution_count": 8,
   "metadata": {},
   "outputs": [
    {
     "data": {
      "text/plain": [
       "1    878\n",
       "0    625\n",
       "Name: Target_Direction, dtype: int64"
      ]
     },
     "execution_count": 8,
     "metadata": {},
     "output_type": "execute_result"
    }
   ],
   "source": [
    "Amazon['Target_Direction'].value_counts()"
   ]
  },
  {
   "cell_type": "code",
   "execution_count": 9,
   "metadata": {},
   "outputs": [],
   "source": [
    "def winsorise(df):\n",
    "    for variable in Target_variables:\n",
    "        df.loc[:,variable] = mstats.winsorize(df.loc[:,variable], limits = [0.1,0.1])\n",
    "    return df"
   ]
  },
  {
   "cell_type": "code",
   "execution_count": 10,
   "metadata": {},
   "outputs": [],
   "source": [
    "Amazon = winsorise(Amazon)\n",
    "Apple = winsorise(Apple)\n",
    "Google = winsorise(Google)\n",
    "Microsoft = winsorise(Microsoft)"
   ]
  },
  {
   "cell_type": "code",
   "execution_count": 11,
   "metadata": {},
   "outputs": [],
   "source": [
    "Amazon.set_index('Date', inplace = True)\n",
    "Apple.set_index('Date', inplace = True)\n",
    "Google.set_index('Date', inplace = True)\n",
    "Microsoft.set_index('Date', inplace = True)"
   ]
  },
  {
   "cell_type": "code",
   "execution_count": 12,
   "metadata": {},
   "outputs": [],
   "source": [
    "def change_to_time_index(df):\n",
    "    df.index = pd.to_datetime(df.index)\n",
    "    return df"
   ]
  },
  {
   "cell_type": "code",
   "execution_count": 13,
   "metadata": {},
   "outputs": [],
   "source": [
    "Amazon = change_to_time_index(Amazon)\n",
    "Apple = change_to_time_index(Apple)\n",
    "Google = change_to_time_index(Google)\n",
    "Microsoft = change_to_time_index(Microsoft)"
   ]
  },
  {
   "cell_type": "code",
   "execution_count": 14,
   "metadata": {},
   "outputs": [],
   "source": [
    "def get_train_test_data(df):\n",
    "    train_data = df.loc[:test_start]\n",
    "    test_data = df.loc[test_start:] \n",
    "    return train_data, test_data"
   ]
  },
  {
   "cell_type": "code",
   "execution_count": 19,
   "metadata": {},
   "outputs": [
    {
     "data": {
      "image/png": "[encoded data removed]",
      "text/plain": [
       "<Figure size 1440x720 with 1 Axes>"
      ]
     },
     "metadata": {
      "needs_background": "light"
     },
     "output_type": "display_data"
    }
   ],
   "source": [
    "def get_validation_curve(df):\n",
    "    train_data, test_data = get_train_test_data(df)\n",
    "    X_train = train_data.loc[:,Target_variables]\n",
    "    Y_train = train_data.loc[:,['Target_Direction']]\n",
    "    train_scoreNum, test_scoreNum = validation_curve(rf,\n",
    "                                    X = X_train[train_start:], y = Y_train.loc[train_start:,'Target_Direction'], \n",
    "                                    param_name = 'n_estimators', \n",
    "                                    param_range = [3,4,7,10,12,15,20,25,30], cv = TimeSeriesSplit(n_splits = 3))\n",
    "\n",
    "    train_scores_mean = np.mean(train_scoreNum, axis=1)\n",
    "    train_scores_std = np.std(train_scoreNum, axis=1)\n",
    "    test_scores_mean = np.mean(test_scoreNum, axis=1)\n",
    "    test_scores_std = np.std(test_scoreNum, axis=1)\n",
    "\n",
    "    plt.figure(figsize = (20,10))\n",
    "    plt.plot([3,4,7,10,12,15,20,25,30],train_scores_mean)\n",
    "    plt.plot([3,4,7,10,12,15,20,25,30],test_scores_mean)\n",
    "    plt.legend(['Train Score','Test Score'], fontsize = 'large')\n",
    "    plt.title('Validation Curve Score for n_estimators', fontsize = 'large')\n",
    "    plt.xlabel('n_estimators')\n",
    "    \n",
    "get_validation_curve(Amazon)\n"
   ]
  },
  {
   "cell_type": "code",
   "execution_count": 20,
   "metadata": {},
   "outputs": [
    {
     "data": {
      "image/png": "[encoded data removed]",
      "text/plain": [
       "<Figure size 1440x720 with 1 Axes>"
      ]
     },
     "metadata": {
      "needs_background": "light"
     },
     "output_type": "display_data"
    }
   ],
   "source": [
    "get_validation_curve(Apple)"
   ]
  },
  {
   "cell_type": "code",
   "execution_count": 21,
   "metadata": {},
   "outputs": [
    {
     "data": {
      "image/png": "[encoded data removed]",
      "text/plain": [
       "<Figure size 1440x720 with 1 Axes>"
      ]
     },
     "metadata": {
      "needs_background": "light"
     },
     "output_type": "display_data"
    }
   ],
   "source": [
    "get_validation_curve(Microsoft)"
   ]
  },
  {
   "cell_type": "code",
   "execution_count": 22,
   "metadata": {},
   "outputs": [
    {
     "data": {
      "image/png": "[encoded data removed]",
      "text/plain": [
       "<Figure size 1440x720 with 1 Axes>"
      ]
     },
     "metadata": {
      "needs_background": "light"
     },
     "output_type": "display_data"
    }
   ],
   "source": [
    "get_validation_curve(Google)"
   ]
  },
  {
   "cell_type": "code",
   "execution_count": 23,
   "metadata": {},
   "outputs": [],
   "source": [
    "# parameters using validation curves \n",
    "amazon_params = { 'max_depth':[5, 7],\n",
    "                  'max_features': ['sqrt'],\n",
    "                  'min_samples_leaf': [10, 15, 20],\n",
    "                  'n_estimators': [7, 9, 11, 13],\n",
    "                  'min_samples_split':[20, 25, 30]}\n",
    "\n",
    "apple_params = { 'max_depth':[5, 7],\n",
    "                  'max_features': ['sqrt'],\n",
    "                  'min_samples_leaf': [10, 15, 20],\n",
    "                  'n_estimators': [5, 7, 9, 10, 11],\n",
    "                  'min_samples_split':[20, 25, 30]}\n",
    "\n",
    "google_params = { 'max_depth':[5, 7],\n",
    "                  'max_features': ['sqrt'],\n",
    "                  'min_samples_leaf': [10, 15, 20],\n",
    "                  'n_estimators': [2, 3, 5, 7],\n",
    "                  'min_samples_split':[20, 25, 30]}\n",
    "\n",
    "microsoft_params = { 'max_depth':[5, 7],\n",
    "                  'max_features': ['sqrt'],\n",
    "                  'min_samples_leaf': [10, 15, 20],\n",
    "                  'n_estimators': [3, 4, 5, 7],\n",
    "                  'min_samples_split':[20, 25, 30]}\n"
   ]
  },
  {
   "cell_type": "code",
   "execution_count": 24,
   "metadata": {},
   "outputs": [],
   "source": [
    "def train_predict(df, params, stock_name):\n",
    "    co_train = df[:test_start]\n",
    "    co_train = co_train.dropna().copy()\n",
    "    co_test = df[test_start:]\n",
    "    co_test = co_test.dropna().copy()\n",
    "\n",
    "\n",
    "    X_train = co_train.loc[:,Target_variables]\n",
    "    Y_train = co_train.loc[:,['Target_Direction']]\n",
    "\n",
    "    X_test = co_test.loc[:, Target_variables]\n",
    "    Y_test = co_train.loc[:,['Target_Direction']]\n",
    "\n",
    "\n",
    "    rf = RandomForestClassifier()\n",
    "\n",
    "    #Perform a TimeSeriesSplit on the dataset\n",
    "    time_series_split = TimeSeriesSplit(n_splits = 3)\n",
    "\n",
    "\n",
    "    rf_cv = GridSearchCV(rf, params, cv = time_series_split, n_jobs = -1, verbose = 20)\n",
    "\n",
    "    #Fit the random forest with our X_train and Y_train\n",
    "    rf_cv.fit(X_train, Y_train)\n",
    "    test_pred = rf_cv.predict(X_test)\n",
    "    total_pred = rf_cv.predict(df.loc[:,Target_variables])\n",
    "\n",
    "    #Save the fited variable into a Pickle file\n",
    "    # file_loc = f'{os.getcwd()}\\\\Pickle_Files\\\\Amazon' \n",
    "    file_name = stock_name +\"_trend\"\n",
    "    pickle.dump(rf_cv, open(file_name,'wb'))\n",
    "    return test_pred, total_pred \n"
   ]
  },
  {
   "cell_type": "code",
   "execution_count": 25,
   "metadata": {},
   "outputs": [],
   "source": [
    "def get_accuracy(df, test_pred):    \n",
    "    y_test = df[test_start:]\n",
    "    co_test = y_test.dropna().copy()\n",
    "    Y_test = co_test.loc[:,['Target_Direction']]\n",
    "    return accuracy_score(test_pred, Y_test )"
   ]
  },
  {
   "cell_type": "code",
   "execution_count": 28,
   "metadata": {},
   "outputs": [
    {
     "name": "stdout",
     "output_type": "stream",
     "text": [
      "Fitting 3 folds for each of 72 candidates, totalling 216 fits\n"
     ]
    },
    {
     "name": "stderr",
     "output_type": "stream",
     "text": [
      "/opt/anaconda3/lib/python3.8/site-packages/sklearn/model_selection/_search.py:880: DataConversionWarning: A column-vector y was passed when a 1d array was expected. Please change the shape of y to (n_samples,), for example using ravel().\n",
      "  self.best_estimator_.fit(X, y, **fit_params)\n"
     ]
    }
   ],
   "source": [
    "test_pred, total_pred = train_predict(Amazon, amazon_params, \"amazon\")"
   ]
  },
  {
   "cell_type": "code",
   "execution_count": 29,
   "metadata": {},
   "outputs": [
    {
     "data": {
      "text/plain": [
       "0.5070707070707071"
      ]
     },
     "execution_count": 29,
     "metadata": {},
     "output_type": "execute_result"
    }
   ],
   "source": [
    "get_accuracy(Amazon, test_pred)"
   ]
  },
  {
   "cell_type": "code",
   "execution_count": 31,
   "metadata": {},
   "outputs": [
    {
     "name": "stdout",
     "output_type": "stream",
     "text": [
      "Fitting 3 folds for each of 90 candidates, totalling 270 fits\n"
     ]
    },
    {
     "name": "stderr",
     "output_type": "stream",
     "text": [
      "/opt/anaconda3/lib/python3.8/site-packages/sklearn/model_selection/_search.py:880: DataConversionWarning: A column-vector y was passed when a 1d array was expected. Please change the shape of y to (n_samples,), for example using ravel().\n",
      "  self.best_estimator_.fit(X, y, **fit_params)\n"
     ]
    }
   ],
   "source": [
    "test_pred_apple, total_pred_apple = train_predict(Apple, apple_params, \"apple\")"
   ]
  },
  {
   "cell_type": "code",
   "execution_count": 32,
   "metadata": {},
   "outputs": [
    {
     "data": {
      "text/plain": [
       "0.8606060606060606"
      ]
     },
     "execution_count": 32,
     "metadata": {},
     "output_type": "execute_result"
    }
   ],
   "source": [
    "get_accuracy(Apple, test_pred_apple)"
   ]
  },
  {
   "cell_type": "code",
   "execution_count": 33,
   "metadata": {},
   "outputs": [
    {
     "name": "stdout",
     "output_type": "stream",
     "text": [
      "Fitting 3 folds for each of 72 candidates, totalling 216 fits\n"
     ]
    },
    {
     "name": "stderr",
     "output_type": "stream",
     "text": [
      "/opt/anaconda3/lib/python3.8/site-packages/sklearn/model_selection/_search.py:880: DataConversionWarning: A column-vector y was passed when a 1d array was expected. Please change the shape of y to (n_samples,), for example using ravel().\n",
      "  self.best_estimator_.fit(X, y, **fit_params)\n"
     ]
    }
   ],
   "source": [
    "test_pred_google, total_pred_google = train_predict(Google, google_params, \"google\")"
   ]
  },
  {
   "cell_type": "code",
   "execution_count": 34,
   "metadata": {},
   "outputs": [
    {
     "data": {
      "text/plain": [
       "0.49696969696969695"
      ]
     },
     "execution_count": 34,
     "metadata": {},
     "output_type": "execute_result"
    }
   ],
   "source": [
    "get_accuracy(Google, test_pred_google)"
   ]
  },
  {
   "cell_type": "code",
   "execution_count": 35,
   "metadata": {},
   "outputs": [
    {
     "name": "stdout",
     "output_type": "stream",
     "text": [
      "Fitting 3 folds for each of 72 candidates, totalling 216 fits\n"
     ]
    },
    {
     "name": "stderr",
     "output_type": "stream",
     "text": [
      "/opt/anaconda3/lib/python3.8/site-packages/sklearn/model_selection/_search.py:880: DataConversionWarning: A column-vector y was passed when a 1d array was expected. Please change the shape of y to (n_samples,), for example using ravel().\n",
      "  self.best_estimator_.fit(X, y, **fit_params)\n"
     ]
    }
   ],
   "source": [
    "test_pred_microsoft, total_pred_microsoft = train_predict(Microsoft, microsoft_params, \"microsoft\")"
   ]
  },
  {
   "cell_type": "code",
   "execution_count": 36,
   "metadata": {},
   "outputs": [
    {
     "data": {
      "text/plain": [
       "0.9090909090909091"
      ]
     },
     "execution_count": 36,
     "metadata": {},
     "output_type": "execute_result"
    }
   ],
   "source": [
    "get_accuracy(Microsoft, test_pred_microsoft)"
   ]
  },
  {
   "cell_type": "code",
   "execution_count": 37,
   "metadata": {},
   "outputs": [],
   "source": [
    "Amazon['Predicted Trend'] = total_pred\n",
    "Apple['Predicted Trend'] = total_pred_apple\n",
    "Google['Prediicted Trend'] = total_pred_google\n",
    "Microsoft['Predicted Trend'] = total_pred_microsoft"
   ]
  },
  {
   "cell_type": "code",
   "execution_count": 38,
   "metadata": {},
   "outputs": [
    {
     "data": {
      "text/html": [
       "<div>\n",
       "<style scoped>\n",
       "    .dataframe tbody tr th:only-of-type {\n",
       "        vertical-align: middle;\n",
       "    }\n",
       "\n",
       "    .dataframe tbody tr th {\n",
       "        vertical-align: top;\n",
       "    }\n",
       "\n",
       "    .dataframe thead th {\n",
       "        text-align: right;\n",
       "    }\n",
       "</style>\n",
       "<table border=\"1\" class=\"dataframe\">\n",
       "  <thead>\n",
       "    <tr style=\"text-align: right;\">\n",
       "      <th></th>\n",
       "      <th>High</th>\n",
       "      <th>Low</th>\n",
       "      <th>Open</th>\n",
       "      <th>Close</th>\n",
       "      <th>Volume</th>\n",
       "      <th>Adj Close</th>\n",
       "      <th>SMA</th>\n",
       "      <th>MACD</th>\n",
       "      <th>k</th>\n",
       "      <th>d</th>\n",
       "      <th>RSI</th>\n",
       "      <th>Close_Shifted</th>\n",
       "      <th>Target</th>\n",
       "      <th>Target_Direction</th>\n",
       "      <th>Predicted Trend</th>\n",
       "    </tr>\n",
       "    <tr>\n",
       "      <th>Date</th>\n",
       "      <th></th>\n",
       "      <th></th>\n",
       "      <th></th>\n",
       "      <th></th>\n",
       "      <th></th>\n",
       "      <th></th>\n",
       "      <th></th>\n",
       "      <th></th>\n",
       "      <th></th>\n",
       "      <th></th>\n",
       "      <th></th>\n",
       "      <th></th>\n",
       "      <th></th>\n",
       "      <th></th>\n",
       "      <th></th>\n",
       "    </tr>\n",
       "  </thead>\n",
       "  <tbody>\n",
       "    <tr>\n",
       "      <th>2013-01-02</th>\n",
       "      <td>258.100006</td>\n",
       "      <td>253.259995</td>\n",
       "      <td>256.079987</td>\n",
       "      <td>257.309998</td>\n",
       "      <td>3271000</td>\n",
       "      <td>257.309998</td>\n",
       "      <td>291.908665</td>\n",
       "      <td>0.634111</td>\n",
       "      <td>71.512810</td>\n",
       "      <td>60.902685</td>\n",
       "      <td>57.082746</td>\n",
       "      <td>265.339996</td>\n",
       "      <td>4.147399</td>\n",
       "      <td>1</td>\n",
       "      <td>1</td>\n",
       "    </tr>\n",
       "    <tr>\n",
       "      <th>2013-01-03</th>\n",
       "      <td>260.880005</td>\n",
       "      <td>256.369995</td>\n",
       "      <td>257.269989</td>\n",
       "      <td>258.480011</td>\n",
       "      <td>2750900</td>\n",
       "      <td>258.480011</td>\n",
       "      <td>291.908665</td>\n",
       "      <td>0.660732</td>\n",
       "      <td>77.259442</td>\n",
       "      <td>62.884793</td>\n",
       "      <td>58.505474</td>\n",
       "      <td>267.940002</td>\n",
       "      <td>5.881678</td>\n",
       "      <td>1</td>\n",
       "      <td>1</td>\n",
       "    </tr>\n",
       "    <tr>\n",
       "      <th>2013-01-04</th>\n",
       "      <td>259.799988</td>\n",
       "      <td>256.649994</td>\n",
       "      <td>257.579987</td>\n",
       "      <td>259.149994</td>\n",
       "      <td>1874200</td>\n",
       "      <td>259.149994</td>\n",
       "      <td>291.908665</td>\n",
       "      <td>0.757346</td>\n",
       "      <td>80.550126</td>\n",
       "      <td>76.440792</td>\n",
       "      <td>59.336758</td>\n",
       "      <td>272.730011</td>\n",
       "      <td>3.395822</td>\n",
       "      <td>1</td>\n",
       "      <td>1</td>\n",
       "    </tr>\n",
       "    <tr>\n",
       "      <th>2013-01-07</th>\n",
       "      <td>269.730011</td>\n",
       "      <td>262.670013</td>\n",
       "      <td>262.970001</td>\n",
       "      <td>268.459991</td>\n",
       "      <td>4910000</td>\n",
       "      <td>268.459991</td>\n",
       "      <td>291.908665</td>\n",
       "      <td>1.039575</td>\n",
       "      <td>95.292739</td>\n",
       "      <td>84.367436</td>\n",
       "      <td>68.715731</td>\n",
       "      <td>271.899994</td>\n",
       "      <td>0.696441</td>\n",
       "      <td>1</td>\n",
       "      <td>1</td>\n",
       "    </tr>\n",
       "    <tr>\n",
       "      <th>2013-01-08</th>\n",
       "      <td>268.980011</td>\n",
       "      <td>263.570007</td>\n",
       "      <td>267.070007</td>\n",
       "      <td>266.380005</td>\n",
       "      <td>3010700</td>\n",
       "      <td>266.380005</td>\n",
       "      <td>291.908665</td>\n",
       "      <td>1.387794</td>\n",
       "      <td>87.583378</td>\n",
       "      <td>87.808748</td>\n",
       "      <td>65.102887</td>\n",
       "      <td>268.929993</td>\n",
       "      <td>0.861393</td>\n",
       "      <td>1</td>\n",
       "      <td>1</td>\n",
       "    </tr>\n",
       "  </tbody>\n",
       "</table>\n",
       "</div>"
      ],
      "text/plain": [
       "                  High         Low        Open       Close   Volume  \\\n",
       "Date                                                                  \n",
       "2013-01-02  258.100006  253.259995  256.079987  257.309998  3271000   \n",
       "2013-01-03  260.880005  256.369995  257.269989  258.480011  2750900   \n",
       "2013-01-04  259.799988  256.649994  257.579987  259.149994  1874200   \n",
       "2013-01-07  269.730011  262.670013  262.970001  268.459991  4910000   \n",
       "2013-01-08  268.980011  263.570007  267.070007  266.380005  3010700   \n",
       "\n",
       "             Adj Close         SMA      MACD          k          d        RSI  \\\n",
       "Date                                                                            \n",
       "2013-01-02  257.309998  291.908665  0.634111  71.512810  60.902685  57.082746   \n",
       "2013-01-03  258.480011  291.908665  0.660732  77.259442  62.884793  58.505474   \n",
       "2013-01-04  259.149994  291.908665  0.757346  80.550126  76.440792  59.336758   \n",
       "2013-01-07  268.459991  291.908665  1.039575  95.292739  84.367436  68.715731   \n",
       "2013-01-08  266.380005  291.908665  1.387794  87.583378  87.808748  65.102887   \n",
       "\n",
       "            Close_Shifted    Target  Target_Direction  Predicted Trend  \n",
       "Date                                                                    \n",
       "2013-01-02     265.339996  4.147399                 1                1  \n",
       "2013-01-03     267.940002  5.881678                 1                1  \n",
       "2013-01-04     272.730011  3.395822                 1                1  \n",
       "2013-01-07     271.899994  0.696441                 1                1  \n",
       "2013-01-08     268.929993  0.861393                 1                1  "
      ]
     },
     "execution_count": 38,
     "metadata": {},
     "output_type": "execute_result"
    }
   ],
   "source": [
    "Amazon.head()"
   ]
  },
  {
   "cell_type": "code",
   "execution_count": 39,
   "metadata": {},
   "outputs": [],
   "source": [
    "Amazon.to_csv('Amazon_with_trend.csv')\n",
    "Apple.to_csv('Apple_with_trend.csv')\n",
    "Google.to_csv('Google_with_trend.csv')\n",
    "Microsoft.to_csv('Microsoft_with_trend.csv')"
   ]
  },
  {
   "cell_type": "code",
   "execution_count": 40,
   "metadata": {},
   "outputs": [
    {
     "name": "stdout",
     "output_type": "stream",
     "text": [
      "Amazon.csv\r\n",
      "Amazon_all.csv\r\n",
      "Amazon_with_trend.csv\r\n",
      "Apple.csv\r\n",
      "Apple_all.csv\r\n",
      "Apple_with_trend.csv\r\n",
      "Bot.ipynb\r\n",
      "Bot.ipynb copy\r\n",
      "Bot_old.ipynb\r\n",
      "Bot_stock Data.ipynb\r\n",
      "Combine all the data.ipynb\r\n",
      "Combined_data.csv\r\n",
      "Data Collection and Preprocessing.ipynb\r\n",
      "Ensemble Test-Copy1.ipynb\r\n",
      "Ensemble Test.ipynb\r\n",
      "Google.csv\r\n",
      "Google_all.csv\r\n",
      "Google_with_trend.csv\r\n",
      "Market Trend Prediction.ipynb\r\n",
      "Microsoft.csv\r\n",
      "Microsoft_all.csv\r\n",
      "Microsoft_with_trend.csv\r\n",
      "Multi Company RL Bot for Stock Data .ipynb\r\n",
      "\u001b[34mNew MDP for Amazon\u001b[m\u001b[m/\r\n",
      "RL bot for combined data-multi company.ipynb\r\n",
      "Sentiment Analysis.ipynb\r\n",
      "Stock_senti_trend.ipynb\r\n",
      "\u001b[34mWeb app\u001b[m\u001b[m/\r\n",
      "Web app.zip\r\n",
      "Web-app sentiment.ipynb\r\n",
      "amazon\r\n",
      "amazonSentiments.csv\r\n",
      "amazon_trend\r\n",
      "amzn_aapl_goog_msft.csv\r\n",
      "appleSentiments.csv\r\n",
      "apple_trend\r\n",
      "bot2 copy.py\r\n",
      "data .ipynb\r\n",
      "googleSentiments.csv\r\n",
      "google_trend\r\n",
      "microsoftSentiments.csv\r\n",
      "microsoft_trend\r\n",
      "tweets.json\r\n",
      "tweets_apple.json\r\n",
      "tweets_google.json\r\n"
     ]
    }
   ],
   "source": [
    "ls"
   ]
  },
  {
   "cell_type": "code",
   "execution_count": 43,
   "metadata": {},
   "outputs": [],
   "source": [
    "def train_predict(df):\n",
    "    co_train = df[:test_start]\n",
    "    co_train = co_train.dropna().copy()\n",
    "    co_test = df[test_start:]\n",
    "    co_test = co_test.dropna().copy()\n",
    "\n",
    "\n",
    "    X_train = co_train.loc[:,Target_variables]\n",
    "    Y_train = co_train.loc[:,['Target_Direction']]\n",
    "\n",
    "    X_test = co_test.loc[:, Target_variables]\n",
    "    Y_test = co_train.loc[:,['Target_Direction']]\n",
    "    return X_train"
   ]
  },
  {
   "cell_type": "code",
   "execution_count": 44,
   "metadata": {},
   "outputs": [
    {
     "data": {
      "text/html": [
       "<div>\n",
       "<style scoped>\n",
       "    .dataframe tbody tr th:only-of-type {\n",
       "        vertical-align: middle;\n",
       "    }\n",
       "\n",
       "    .dataframe tbody tr th {\n",
       "        vertical-align: top;\n",
       "    }\n",
       "\n",
       "    .dataframe thead th {\n",
       "        text-align: right;\n",
       "    }\n",
       "</style>\n",
       "<table border=\"1\" class=\"dataframe\">\n",
       "  <thead>\n",
       "    <tr style=\"text-align: right;\">\n",
       "      <th></th>\n",
       "      <th>SMA</th>\n",
       "      <th>k</th>\n",
       "      <th>d</th>\n",
       "      <th>RSI</th>\n",
       "      <th>MACD</th>\n",
       "    </tr>\n",
       "    <tr>\n",
       "      <th>Date</th>\n",
       "      <th></th>\n",
       "      <th></th>\n",
       "      <th></th>\n",
       "      <th></th>\n",
       "      <th></th>\n",
       "    </tr>\n",
       "  </thead>\n",
       "  <tbody>\n",
       "    <tr>\n",
       "      <th>2013-01-02</th>\n",
       "      <td>291.908665</td>\n",
       "      <td>71.512810</td>\n",
       "      <td>60.902685</td>\n",
       "      <td>57.082746</td>\n",
       "      <td>0.634111</td>\n",
       "    </tr>\n",
       "    <tr>\n",
       "      <th>2013-01-03</th>\n",
       "      <td>291.908665</td>\n",
       "      <td>77.259442</td>\n",
       "      <td>62.884793</td>\n",
       "      <td>58.505474</td>\n",
       "      <td>0.660732</td>\n",
       "    </tr>\n",
       "    <tr>\n",
       "      <th>2013-01-04</th>\n",
       "      <td>291.908665</td>\n",
       "      <td>80.550126</td>\n",
       "      <td>76.440792</td>\n",
       "      <td>59.336758</td>\n",
       "      <td>0.757346</td>\n",
       "    </tr>\n",
       "    <tr>\n",
       "      <th>2013-01-07</th>\n",
       "      <td>291.908665</td>\n",
       "      <td>95.292739</td>\n",
       "      <td>84.367436</td>\n",
       "      <td>68.715731</td>\n",
       "      <td>1.039575</td>\n",
       "    </tr>\n",
       "    <tr>\n",
       "      <th>2013-01-08</th>\n",
       "      <td>291.908665</td>\n",
       "      <td>87.583378</td>\n",
       "      <td>87.808748</td>\n",
       "      <td>65.102887</td>\n",
       "      <td>1.387794</td>\n",
       "    </tr>\n",
       "    <tr>\n",
       "      <th>...</th>\n",
       "      <td>...</td>\n",
       "      <td>...</td>\n",
       "      <td>...</td>\n",
       "      <td>...</td>\n",
       "      <td>...</td>\n",
       "    </tr>\n",
       "    <tr>\n",
       "      <th>2016-12-23</th>\n",
       "      <td>765.819332</td>\n",
       "      <td>23.155382</td>\n",
       "      <td>52.465223</td>\n",
       "      <td>46.555675</td>\n",
       "      <td>-2.684589</td>\n",
       "    </tr>\n",
       "    <tr>\n",
       "      <th>2016-12-27</th>\n",
       "      <td>766.622001</td>\n",
       "      <td>61.138478</td>\n",
       "      <td>48.150692</td>\n",
       "      <td>52.099080</td>\n",
       "      <td>-2.351431</td>\n",
       "    </tr>\n",
       "    <tr>\n",
       "      <th>2016-12-28</th>\n",
       "      <td>767.116003</td>\n",
       "      <td>63.703411</td>\n",
       "      <td>49.332424</td>\n",
       "      <td>52.457693</td>\n",
       "      <td>-1.973711</td>\n",
       "    </tr>\n",
       "    <tr>\n",
       "      <th>2016-12-29</th>\n",
       "      <td>766.764673</td>\n",
       "      <td>39.177849</td>\n",
       "      <td>54.673246</td>\n",
       "      <td>48.703075</td>\n",
       "      <td>-1.694724</td>\n",
       "    </tr>\n",
       "    <tr>\n",
       "      <th>2016-12-30</th>\n",
       "      <td>765.600671</td>\n",
       "      <td>15.594093</td>\n",
       "      <td>35.844335</td>\n",
       "      <td>41.671530</td>\n",
       "      <td>-1.732168</td>\n",
       "    </tr>\n",
       "  </tbody>\n",
       "</table>\n",
       "<p>1008 rows × 5 columns</p>\n",
       "</div>"
      ],
      "text/plain": [
       "                   SMA          k          d        RSI      MACD\n",
       "Date                                                             \n",
       "2013-01-02  291.908665  71.512810  60.902685  57.082746  0.634111\n",
       "2013-01-03  291.908665  77.259442  62.884793  58.505474  0.660732\n",
       "2013-01-04  291.908665  80.550126  76.440792  59.336758  0.757346\n",
       "2013-01-07  291.908665  95.292739  84.367436  68.715731  1.039575\n",
       "2013-01-08  291.908665  87.583378  87.808748  65.102887  1.387794\n",
       "...                ...        ...        ...        ...       ...\n",
       "2016-12-23  765.819332  23.155382  52.465223  46.555675 -2.684589\n",
       "2016-12-27  766.622001  61.138478  48.150692  52.099080 -2.351431\n",
       "2016-12-28  767.116003  63.703411  49.332424  52.457693 -1.973711\n",
       "2016-12-29  766.764673  39.177849  54.673246  48.703075 -1.694724\n",
       "2016-12-30  765.600671  15.594093  35.844335  41.671530 -1.732168\n",
       "\n",
       "[1008 rows x 5 columns]"
      ]
     },
     "execution_count": 44,
     "metadata": {},
     "output_type": "execute_result"
    }
   ],
   "source": [
    "train_predict(Amazon)"
   ]
  },
  {
   "cell_type": "code",
   "execution_count": 50,
   "metadata": {},
   "outputs": [],
   "source": [
    "at = pickle.load(open(\"amazon_trend\", \"rb\"))"
   ]
  },
  {
   "cell_type": "code",
   "execution_count": null,
   "metadata": {},
   "outputs": [],
   "source": [
    "at.predict()"
   ]
  }
 ],
 "metadata": {
  "kernelspec": {
   "display_name": "Python 3",
   "language": "python",
   "name": "python3"
  },
  "language_info": {
   "codemirror_mode": {
    "name": "ipython",
    "version": 3
   },
   "file_extension": ".py",
   "mimetype": "text/x-python",
   "name": "python",
   "nbconvert_exporter": "python",
   "pygments_lexer": "ipython3",
   "version": "3.8.5"
  }
 },
 "nbformat": 4,
 "nbformat_minor": 4
}
